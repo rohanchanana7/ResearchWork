{
 "cells": [
  {
   "cell_type": "code",
   "execution_count": null,
   "metadata": {},
   "outputs": [],
   "source": [
    "import torch\n",
    "import torch.optim as optim"
   ]
  },
  {
   "cell_type": "code",
   "execution_count": null,
   "metadata": {},
   "outputs": [],
   "source": [
    "def train_decoder(decoder, data_loader, num_epochs=10):\n",
    "\n",
    "    optimizer = optim.Adam(decoder.parameters(), lr=1e-4)\n",
    "\n",
    "    # Putting model in training mode\n",
    "    decoder.train()\n",
    "\n",
    "    for epoch in range(num_epochs):\n",
    "\n",
    "        total_loss = 0\n",
    "\n",
    "        # Iterating over the batches of data provided by the data_loader\n",
    "        # Each batch contains three elements : encoded_patches , original_images and binary_masks\n",
    "        for encoded_patches, original_images, binary_masks in data_loader:\n",
    "\n",
    "            if torch.cuda.is_available():\n",
    "\n",
    "                encoded_patches = encoded_patches.cuda()\n",
    "                original_images = original_images.cuda()\n",
    "                binary_masks = binary_masks.cuda()\n",
    "                decoder = decoder.cuda()\n",
    "\n",
    "            # Forward pass\n",
    "            reconstructed_images = decoder(encoded_patches)\n",
    "\n",
    "            # Compute the loss\n",
    "            loss = mse_loss(reconstructed_images, original_images, binary_masks)\n",
    "\n",
    "            # Backward pass and optimization\n",
    "            optimizer.zero_grad()\n",
    "            loss.backward()\n",
    "            optimizer.step()\n",
    "\n",
    "            total_loss += loss.item()\n",
    "\n",
    "        print(f'Epoch [{epoch+1}/{num_epochs}], Loss: {total_loss/len(data_loader)}')"
   ]
  },
  {
   "cell_type": "code",
   "execution_count": null,
   "metadata": {},
   "outputs": [],
   "source": [
    "# Example usage\n",
    "train_decoder(Decoder(), train_loader)"
   ]
  },
  {
   "cell_type": "code",
   "execution_count": null,
   "metadata": {},
   "outputs": [],
   "source": []
  }
 ],
 "metadata": {
  "language_info": {
   "name": "python"
  }
 },
 "nbformat": 4,
 "nbformat_minor": 2
}
