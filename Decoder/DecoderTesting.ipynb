{
 "cells": [
  {
   "cell_type": "code",
   "execution_count": null,
   "metadata": {},
   "outputs": [],
   "source": [
    "import torch\n",
    "import matplotlib.pyplot as plt"
   ]
  },
  {
   "cell_type": "code",
   "execution_count": null,
   "metadata": {},
   "outputs": [],
   "source": [
    "def visualize_results(original, reconstructed, num_images=5):\n",
    "\n",
    "    original = original.permute(0, 2, 3, 1)  \n",
    "    reconstructed = reconstructed.permute(0, 2, 3, 1)  \n",
    "\n",
    "    for i in range(min(num_images, original.shape[0])):\n",
    "\n",
    "        plt.figure(figsize=(10, 4))\n",
    "\n",
    "        # Original image\n",
    "        plt.subplot(1, 3, 1)\n",
    "        plt.imshow(original[i].numpy().clip(0, 1)) \n",
    "        plt.title(\"Original Image\")\n",
    "\n",
    "        # Reconstructed image\n",
    "        plt.subplot(1, 3, 2)\n",
    "        plt.imshow(reconstructed[i].numpy().clip(0, 1))\n",
    "        plt.title(\"Reconstructed Image\")\n",
    "        \n",
    "        plt.show()"
   ]
  },
  {
   "cell_type": "code",
   "execution_count": null,
   "metadata": {},
   "outputs": [],
   "source": [
    "def test_decoder(decoder, test_loader, num_images=5):\n",
    "\n",
    "    # Decoder to evaluation mode\n",
    "    decoder.eval()  \n",
    "\n",
    "    total_loss = 0\n",
    "\n",
    "    # Disable gradient computation for testing , since the model is not being updated. \n",
    "    with torch.no_grad(): \n",
    "\n",
    "        for encoded_patches, original_images, binary_masks in test_loader:\n",
    "\n",
    "            if torch.cuda.is_available():\n",
    "                \n",
    "                encoded_patches = encoded_patches.cuda()\n",
    "                original_images = original_images.cuda()\n",
    "                binary_masks = binary_masks.cuda()\n",
    "\n",
    "            # Forward pass\n",
    "            reconstructed_images = decoder(encoded_patches)\n",
    "\n",
    "            # Loss for evaluation \n",
    "            loss = mse_loss(reconstructed_images, original_images, binary_masks)\n",
    "            total_loss += loss.item()\n",
    "\n",
    "        # Average loss over the test set\n",
    "        avg_loss = total_loss / len(test_loader)\n",
    "        print(f\"Test Loss: {avg_loss}\")\n",
    "\n",
    "    # Visualization\n",
    "    for encoded_patches, original_images, binary_masks in test_loader:\n",
    "\n",
    "        if torch.cuda.is_available():\n",
    "\n",
    "            encoded_patches = encoded_patches.cuda()\n",
    "            original_images = original_images.cuda()\n",
    "            binary_masks = binary_masks.cuda()\n",
    "\n",
    "        reconstructed_images = decoder(encoded_patches)\n",
    "\n",
    "        visualize_results(original_images.cpu(), reconstructed_images.cpu(), num_images)\n",
    "        \n",
    "        break  # Visualize only the first batch\n"
   ]
  },
  {
   "cell_type": "code",
   "execution_count": null,
   "metadata": {},
   "outputs": [],
   "source": [
    "# Example usage\n",
    "test_decoder(decoder, test_loader)"
   ]
  },
  {
   "cell_type": "code",
   "execution_count": null,
   "metadata": {},
   "outputs": [],
   "source": []
  }
 ],
 "metadata": {
  "language_info": {
   "name": "python"
  }
 },
 "nbformat": 4,
 "nbformat_minor": 2
}
