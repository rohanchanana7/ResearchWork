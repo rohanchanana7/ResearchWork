{
 "cells": [
  {
   "cell_type": "code",
   "execution_count": null,
   "metadata": {},
   "outputs": [],
   "source": [
    "import torch"
   ]
  },
  {
   "cell_type": "code",
   "execution_count": null,
   "metadata": {},
   "outputs": [],
   "source": [
    "def mse_loss(reconstructed, original, mask):\n",
    "\n",
    "    # Applying the binary mask to both original and reconstructed images\n",
    "    masked_reconstructed = reconstructed * mask\n",
    "    masked_original = original * mask\n",
    "    \n",
    "    # Calculating MSE loss\n",
    "    loss = torch.mean((masked_original - masked_reconstructed) ** 2)\n",
    "\n",
    "    return loss"
   ]
  },
  {
   "cell_type": "code",
   "execution_count": null,
   "metadata": {},
   "outputs": [],
   "source": []
  }
 ],
 "metadata": {
  "language_info": {
   "name": "python"
  }
 },
 "nbformat": 4,
 "nbformat_minor": 2
}
