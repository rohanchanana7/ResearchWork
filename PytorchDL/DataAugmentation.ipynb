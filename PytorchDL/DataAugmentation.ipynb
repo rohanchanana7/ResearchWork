{
 "cells": [
  {
   "cell_type": "code",
   "execution_count": null,
   "metadata": {},
   "outputs": [],
   "source": [
    "from torchvision import transforms"
   ]
  },
  {
   "cell_type": "code",
   "execution_count": null,
   "metadata": {},
   "outputs": [],
   "source": [
    "transform = transforms.Compose([\n",
    "\n",
    "    transforms.RandomResizedCrop(224),\n",
    "    \n",
    "    transforms.RandomHorizontalFlip(p=0.5),\n",
    "    \n",
    "    transforms.RandomRotation(30),\n",
    "    \n",
    "    transforms.ColorJitter(\n",
    "        brightness=0.2,   \n",
    "        contrast=0.2,     \n",
    "        saturation=0.2,   \n",
    "        hue=0.1           \n",
    "    ),\n",
    "    \n",
    "    transforms.RandomVerticalFlip(),\n",
    "    \n",
    "    transforms.RandomGrayscale(p=0.1),\n",
    "    \n",
    "    transforms.Pad(padding=10, fill=0, padding_mode='reflect'),\n",
    "    \n",
    "    transforms.RandomAffine(\n",
    "        degrees=30,               \n",
    "        translate=(0.1, 0.1),    \n",
    "        scale=(0.8, 1.2),        \n",
    "        shear=10,                  \n",
    "        resample=False,          \n",
    "        fillcolor=0               \n",
    "    ),\n",
    "    \n",
    "    transforms.ToTensor(),\n",
    "    \n",
    "    transforms.Normalize(\n",
    "        mean=[0.485, 0.456, 0.406], \n",
    "        std=[0.229, 0.224, 0.225]   \n",
    "    )\n",
    "])"
   ]
  },
  {
   "cell_type": "code",
   "execution_count": null,
   "metadata": {},
   "outputs": [],
   "source": []
  }
 ],
 "metadata": {
  "language_info": {
   "name": "python"
  }
 },
 "nbformat": 4,
 "nbformat_minor": 2
}
