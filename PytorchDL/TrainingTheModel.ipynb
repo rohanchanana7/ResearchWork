{
 "cells": [
  {
   "cell_type": "code",
   "execution_count": null,
   "metadata": {},
   "outputs": [],
   "source": [
    "import torch\n",
    "import torch.nn as nn"
   ]
  },
  {
   "cell_type": "code",
   "execution_count": null,
   "metadata": {},
   "outputs": [],
   "source": [
    "def train(model, optimizer, loss_fn, train_loader, val_loader, epochs=20, device=\"cpu\"):\n",
    "\n",
    "    for epoch in range(epochs):\n",
    "        training_loss = 0.0\n",
    "        valid_loss = 0.0\n",
    "\n",
    "        # Training phase\n",
    "        model.train() \n",
    "        for batch in train_loader:\n",
    "            optimizer.zero_grad()  \n",
    "            inputs, targets = batch  \n",
    "            inputs = inputs.to(device) \n",
    "            targets = targets.to(device) \n",
    "\n",
    "            output = model(inputs)  \n",
    "            loss = loss_fn(output, targets) \n",
    "\n",
    "            loss.backward() \n",
    "            optimizer.step() \n",
    "\n",
    "            training_loss += loss.item()  \n",
    "\n",
    "        training_loss /= len(train_loader) \n",
    "\n",
    "        # Validation phase\n",
    "        model.eval()  \n",
    "\n",
    "\n",
    "        num_correct = 0\n",
    "\n",
    "        num_examples = 0\n",
    "\n",
    "        with torch.no_grad():\n",
    "            for batch in val_loader:\n",
    "                inputs, targets = batch\n",
    "                inputs = inputs.to(device)\n",
    "                targets = targets.to(device)\n",
    "\n",
    "                output = model(inputs) \n",
    "                loss = loss_fn(output, targets)  \n",
    "                valid_loss += loss.item()  \n",
    "\n",
    "                predicted_classes = torch.max(output, dim=1)[1] # 1\n",
    "                correct = torch.eq(predicted_classes, targets).view(-1) # 2\n",
    "                num_correct += torch.sum(correct).item() # 3\n",
    "                num_examples += correct.shape[0] # 4\n",
    "\n",
    "        valid_loss /= len(val_loader) \n",
    "        accuracy = num_correct / num_examples \n",
    "\n",
    "        print(f'Epoch: {epoch+1}/{epochs}, Training Loss: {training_loss:.4f}, '\n",
    "              f'Validation Loss: {valid_loss:.4f}, Accuracy: {accuracy:.4f}')"
   ]
  },
  {
   "cell_type": "code",
   "execution_count": null,
   "metadata": {},
   "outputs": [],
   "source": [
    "device = torch.device(\"cuda\" if torch.cuda.is_available() else \"cpu\")"
   ]
  },
  {
   "cell_type": "code",
   "execution_count": null,
   "metadata": {},
   "outputs": [],
   "source": [
    "train(simplenet, optimizer, criterion,train_data_loader, test_data_loader,device=device)"
   ]
  },
  {
   "cell_type": "code",
   "execution_count": null,
   "metadata": {},
   "outputs": [],
   "source": []
  }
 ],
 "metadata": {
  "language_info": {
   "name": "python"
  }
 },
 "nbformat": 4,
 "nbformat_minor": 2
}
