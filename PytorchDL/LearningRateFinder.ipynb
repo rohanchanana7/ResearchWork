{
 "cells": [
  {
   "cell_type": "code",
   "execution_count": null,
   "metadata": {},
   "outputs": [],
   "source": [
    "import math\n",
    "import matplotlib.pyplot as plt"
   ]
  },
  {
   "cell_type": "code",
   "execution_count": null,
   "metadata": {},
   "outputs": [],
   "source": [
    "def find_lr(model, loss_fn, optimizer, train_loader, init_value=1e-8, final_value=10.0):\n",
    "    \n",
    "    number_in_epoch = len(train_loader) - 1\n",
    "    \n",
    "    update_step = (final_value / init_value) ** (1 / number_in_epoch)\n",
    "    \n",
    "    lr = init_value\n",
    "    \n",
    "    optimizer.param_groups[0][\"lr\"] = lr\n",
    "    \n",
    "    best_loss = float('inf')\n",
    "    \n",
    "    batch_num = 0\n",
    "    \n",
    "    losses = []\n",
    "    log_lrs = []\n",
    "    \n",
    "    for data in train_loader:\n",
    "        batch_num += 1 \n",
    "        \n",
    "        inputs, labels = data\n",
    "\n",
    "        optimizer.zero_grad()\n",
    "        \n",
    "        outputs = model(inputs)\n",
    "        \n",
    "        loss = loss_fn(outputs, labels)\n",
    "        \n",
    "        if batch_num > 1 and loss > 4 * best_loss:\n",
    "            return log_lrs[10:-5], losses[10:-5]\n",
    "        \n",
    "        if loss < best_loss or batch_num == 1:\n",
    "            best_loss = loss\n",
    "        \n",
    "        losses.append(loss.item())\n",
    "        log_lrs.append(math.log10(lr))\n",
    "        \n",
    "        loss.backward()\n",
    "        \n",
    "        optimizer.step()\n",
    "        \n",
    "        lr *= update_step\n",
    "        optimizer.param_groups[0][\"lr\"] = lr\n",
    "    \n",
    "    return log_lrs[10:-5], losses[10:-5]"
   ]
  },
  {
   "cell_type": "code",
   "execution_count": null,
   "metadata": {},
   "outputs": [],
   "source": [
    "logs, losses = find_lr(model, loss_fn, optimizer, train_loader)"
   ]
  },
  {
   "cell_type": "code",
   "execution_count": null,
   "metadata": {},
   "outputs": [],
   "source": [
    "plt.plot(logs, losses)\n",
    "plt.xlabel('Learning Rate (log scale)')\n",
    "plt.ylabel('Loss')\n",
    "plt.show()"
   ]
  },
  {
   "cell_type": "code",
   "execution_count": null,
   "metadata": {},
   "outputs": [],
   "source": [
    "optimizer = optim.Adam([\n",
    "    { 'params': transfer_model.layer4.parameters(), 'lr': found_lr / 3 },\n",
    "    { 'params': transfer_model.layer3.parameters(), 'lr': found_lr / 9 }\n",
    "], lr=found_lr)"
   ]
  },
  {
   "cell_type": "code",
   "execution_count": null,
   "metadata": {},
   "outputs": [],
   "source": [
    "unfreeze_layers = [transfer_model.layer3, transfer_model.layer4]\n",
    "for layer in unfreeze_layers:\n",
    "    for param in layer.parameters():\n",
    "        param.requires_grad = True"
   ]
  },
  {
   "cell_type": "code",
   "execution_count": null,
   "metadata": {},
   "outputs": [],
   "source": []
  }
 ],
 "metadata": {
  "language_info": {
   "name": "python"
  }
 },
 "nbformat": 4,
 "nbformat_minor": 2
}
