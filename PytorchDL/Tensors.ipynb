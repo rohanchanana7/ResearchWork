{
 "cells": [
  {
   "cell_type": "code",
   "execution_count": null,
   "metadata": {},
   "outputs": [],
   "source": [
    "import torch"
   ]
  },
  {
   "cell_type": "code",
   "execution_count": null,
   "metadata": {},
   "outputs": [],
   "source": [
    "torch.rand(2,2)"
   ]
  },
  {
   "cell_type": "code",
   "execution_count": null,
   "metadata": {},
   "outputs": [],
   "source": [
    "x = torch.tensor([[0,0,1],[1,1,1],[0,0,0]])\n",
    "x"
   ]
  },
  {
   "cell_type": "code",
   "execution_count": null,
   "metadata": {},
   "outputs": [],
   "source": [
    "x[0][0] = 5\n",
    "x"
   ]
  },
  {
   "cell_type": "code",
   "execution_count": null,
   "metadata": {},
   "outputs": [],
   "source": [
    "torch.zeros(2,2)"
   ]
  },
  {
   "cell_type": "code",
   "execution_count": null,
   "metadata": {},
   "outputs": [],
   "source": [
    "torch.ones(2,2)"
   ]
  },
  {
   "cell_type": "code",
   "execution_count": null,
   "metadata": {},
   "outputs": [],
   "source": [
    "torch.ones(1,2) + torch.ones(1,2)"
   ]
  },
  {
   "cell_type": "code",
   "execution_count": null,
   "metadata": {},
   "outputs": [],
   "source": [
    "x = torch.rand(1)\n",
    "print(x)\n",
    "y = x.item()\n",
    "print(y)"
   ]
  },
  {
   "cell_type": "code",
   "execution_count": null,
   "metadata": {},
   "outputs": [],
   "source": [
    "tensor = torch.rand(2, 2)\n",
    "print(tensor)\n",
    "\n",
    "max_value = tensor.max()\n",
    "print(max_value)"
   ]
  },
  {
   "cell_type": "code",
   "execution_count": null,
   "metadata": {},
   "outputs": [],
   "source": [
    "max_value_python = tensor.max().item()\n",
    "print(max_value_python)"
   ]
  },
  {
   "cell_type": "code",
   "execution_count": null,
   "metadata": {},
   "outputs": [],
   "source": [
    "tensor = torch.rand(2, 2)\n",
    "print(tensor)\n",
    "\n",
    "max_value, max_index = tensor.max(dim=1)\n",
    "\n",
    "print(max_value)  \n",
    "\n",
    "print(max_index)  \n"
   ]
  },
  {
   "cell_type": "code",
   "execution_count": null,
   "metadata": {},
   "outputs": [],
   "source": [
    "long_tensor = torch.tensor([[0, 0, 1], [1, 1, 1], [0, 0, 0]])\n",
    "print(long_tensor.type())  \n",
    "\n",
    "float_tensor = long_tensor.to(dtype=torch.float32)\n",
    "print(float_tensor.type()) \n"
   ]
  },
  {
   "cell_type": "code",
   "execution_count": null,
   "metadata": {},
   "outputs": [],
   "source": [
    "tensor = torch.tensor([1.0, 2.0, 3.0])\n",
    "new_tensor = tensor.add(5)  \n",
    "print(tensor)       \n",
    "print(new_tensor)   \n",
    "\n",
    "tensor = torch.tensor([1.0, 2.0, 3.0])\n",
    "new_tensor = tensor.add_(5)\n",
    "print(tensor)\n",
    "print(new_tensor)\n"
   ]
  },
  {
   "cell_type": "code",
   "execution_count": null,
   "metadata": {},
   "outputs": [],
   "source": [
    "tensor = torch.arange(12)\n",
    "print(tensor)\n",
    "\n",
    "reshaped_tensor = tensor.view(3, 4)\n",
    "print(reshaped_tensor)\n",
    "\n",
    "reshaped_tensor = tensor.reshape(3, 4)\n",
    "print(reshaped_tensor)"
   ]
  },
  {
   "cell_type": "code",
   "execution_count": null,
   "metadata": {},
   "outputs": [],
   "source": [
    "tensor = torch.randn(2, 3, 4)\n",
    "\n",
    "permuted_tensor = tensor.permute(0, 2, 1)\n",
    "\n",
    "print(\"Original Tensor Shape:\", tensor.shape)\n",
    "print(\"Permuted Tensor Shape:\", permuted_tensor.shape)"
   ]
  },
  {
   "cell_type": "code",
   "execution_count": null,
   "metadata": {},
   "outputs": [],
   "source": [
    "tensor = torch.tensor([[1, 2, 3], [4, 5, 6]]) \n",
    "scalar = 10\n",
    "result = tensor + scalar\n",
    "print(result)\n",
    "\n",
    "tensor_a = torch.tensor([[1, 2, 3], [4, 5, 6]])  \n",
    "tensor_b = torch.tensor([[10], [20]])              \n",
    "result = tensor_a + tensor_b\n",
    "print(result)"
   ]
  },
  {
   "cell_type": "code",
   "execution_count": null,
   "metadata": {},
   "outputs": [],
   "source": []
  }
 ],
 "metadata": {
  "kernelspec": {
   "display_name": "Python 3",
   "language": "python",
   "name": "python3"
  },
  "language_info": {
   "codemirror_mode": {
    "name": "ipython",
    "version": 3
   },
   "file_extension": ".py",
   "mimetype": "text/x-python",
   "name": "python",
   "nbconvert_exporter": "python",
   "pygments_lexer": "ipython3",
   "version": "3.11.7"
  }
 },
 "nbformat": 4,
 "nbformat_minor": 2
}
